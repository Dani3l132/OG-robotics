{
 "cells": [
  {
   "cell_type": "markdown",
   "metadata": {},
   "source": [
    "# 1. Import Dependencies"
   ]
  },
  {
   "cell_type": "code",
   "execution_count": 1,
   "metadata": {},
   "outputs": [
    {
     "name": "stdout",
     "output_type": "stream",
     "text": [
      "Collecting opencv-python\n",
      "  Downloading opencv_python-4.7.0.72-cp37-abi3-win_amd64.whl (38.2 MB)\n",
      "     ---------------------------------------- 0.0/38.2 MB ? eta -:--:--\n",
      "     ---------------------------------------- 0.1/38.2 MB 3.3 MB/s eta 0:00:12\n",
      "     ---------------------------------------- 0.4/38.2 MB 4.6 MB/s eta 0:00:09\n",
      "     - -------------------------------------- 1.3/38.2 MB 10.0 MB/s eta 0:00:04\n",
      "     --- ------------------------------------ 3.7/38.2 MB 21.3 MB/s eta 0:00:02\n",
      "     ------- -------------------------------- 6.9/38.2 MB 31.7 MB/s eta 0:00:01\n",
      "     -------- ------------------------------- 8.2/38.2 MB 34.7 MB/s eta 0:00:01\n",
      "     --------- ------------------------------ 8.7/38.2 MB 27.7 MB/s eta 0:00:02\n",
      "     ---------- ----------------------------- 9.6/38.2 MB 26.8 MB/s eta 0:00:02\n",
      "     ---------- ---------------------------- 10.3/38.2 MB 26.2 MB/s eta 0:00:02\n",
      "     ----------- --------------------------- 11.0/38.2 MB 29.8 MB/s eta 0:00:01\n",
      "     ------------ -------------------------- 12.0/38.2 MB 28.5 MB/s eta 0:00:01\n",
      "     ------------- ------------------------- 12.8/38.2 MB 26.2 MB/s eta 0:00:01\n",
      "     ------------- ------------------------- 13.3/38.2 MB 24.2 MB/s eta 0:00:02\n",
      "     ---------------- ---------------------- 15.9/38.2 MB 23.4 MB/s eta 0:00:01\n",
      "     ------------------- ------------------- 19.3/38.2 MB 28.4 MB/s eta 0:00:01\n",
      "     ---------------------- ---------------- 22.3/38.2 MB 46.7 MB/s eta 0:00:01\n",
      "     ------------------------- ------------- 24.5/38.2 MB 65.6 MB/s eta 0:00:01\n",
      "     ---------------------------- ---------- 27.9/38.2 MB 65.6 MB/s eta 0:00:01\n",
      "     ------------------------------- ------- 31.0/38.2 MB 59.5 MB/s eta 0:00:01\n",
      "     ----------------------------------- --- 34.3/38.2 MB 65.6 MB/s eta 0:00:01\n",
      "     ------------------------------------- - 36.3/38.2 MB 65.6 MB/s eta 0:00:01\n",
      "     --------------------------------------  38.2/38.2 MB 65.2 MB/s eta 0:00:01\n",
      "     --------------------------------------  38.2/38.2 MB 65.2 MB/s eta 0:00:01\n",
      "     --------------------------------------- 38.2/38.2 MB 43.5 MB/s eta 0:00:00\n",
      "Collecting numpy>=1.19.3\n",
      "  Downloading numpy-1.24.2-cp310-cp310-win_amd64.whl (14.8 MB)\n",
      "     ---------------------------------------- 0.0/14.8 MB ? eta -:--:--\n",
      "     ------ --------------------------------- 2.3/14.8 MB 48.4 MB/s eta 0:00:01\n",
      "     -------------- ------------------------- 5.4/14.8 MB 58.0 MB/s eta 0:00:01\n",
      "     ---------------------- ----------------- 8.3/14.8 MB 59.1 MB/s eta 0:00:01\n",
      "     ------------------------------ -------- 11.5/14.8 MB 65.6 MB/s eta 0:00:01\n",
      "     --------------------------------------  14.8/14.8 MB 65.6 MB/s eta 0:00:01\n",
      "     --------------------------------------- 14.8/14.8 MB 54.7 MB/s eta 0:00:00\n",
      "Installing collected packages: numpy, opencv-python\n",
      "Successfully installed numpy-1.24.2 opencv-python-4.7.0.72\n"
     ]
    }
   ],
   "source": [
    "!pip install opencv-python"
   ]
  },
  {
   "cell_type": "code",
   "execution_count": 1,
   "metadata": {},
   "outputs": [],
   "source": [
    "# Import opencv\n",
    "import cv2 \n",
    "\n",
    "# Import uuid\n",
    "import uuid\n",
    "\n",
    "# Import Operating System\n",
    "import os\n",
    "\n",
    "# Import time\n",
    "import time"
   ]
  },
  {
   "cell_type": "markdown",
   "metadata": {},
   "source": [
    "# 2. Define Images to Collect"
   ]
  },
  {
   "cell_type": "code",
   "execution_count": 2,
   "metadata": {},
   "outputs": [],
   "source": [
    "labels = ['blue_cube', 'green_cube', 'red_cube']\n",
    "number_imgs = 5"
   ]
  },
  {
   "cell_type": "markdown",
   "metadata": {},
   "source": [
    "# 3. Setup Folders "
   ]
  },
  {
   "cell_type": "code",
   "execution_count": 3,
   "metadata": {},
   "outputs": [],
   "source": [
    "IMAGES_PATH = os.path.join('Tensorflow', 'workspace', 'images', 'collectedimages')"
   ]
  },
  {
   "cell_type": "code",
   "execution_count": 4,
   "metadata": {},
   "outputs": [],
   "source": [
    "if not os.path.exists(IMAGES_PATH):\n",
    "    if os.name == 'posix':\n",
    "        !mkdir -p {IMAGES_PATH}\n",
    "    if os.name == 'nt':\n",
    "         !mkdir {IMAGES_PATH}\n",
    "for label in labels:\n",
    "    path = os.path.join(IMAGES_PATH, label)\n",
    "    if not os.path.exists(path):\n",
    "        !mkdir {path}"
   ]
  },
  {
   "cell_type": "markdown",
   "metadata": {},
   "source": [
    "# 4. Capture Images"
   ]
  },
  {
   "cell_type": "code",
   "execution_count": 20,
   "metadata": {},
   "outputs": [
    {
     "name": "stdout",
     "output_type": "stream",
     "text": [
      "Collecting images for blue_cube\n",
      "Collecting images for green_cube\n",
      "Collecting images for red_cube\n"
     ]
    }
   ],
   "source": [
    "cap = cv2.VideoCapture(0)\n",
    "if cap.isOpened(): # try to get the first frame\n",
    "    rval, frame = cap.read()\n",
    "else:\n",
    "    rval = False\n",
    "x=0\n",
    "label=labels[x]\n",
    "print('Collecting images for {}'.format(label))\n",
    "while x<len(labels) and rval:\n",
    "    cv2.imshow(\"preview\", frame)\n",
    "    rval, frame = cap.read()\n",
    "    key = cv2.waitKey(20)\n",
    "    if key == 27: # exit on ESC\n",
    "        break\n",
    "    if key == 99: # capture on c\n",
    "        imgname = os.path.join(IMAGES_PATH,label,label+'.'+'{}.jpg'.format(str(uuid.uuid1())))\n",
    "        cv2.imwrite(imgname, frame)\n",
    "        cv2.imshow('preview', frame)\n",
    "        time.sleep(2)\n",
    "    if key == 110: # next label on n\n",
    "        x +=1\n",
    "        if x == len(labels):\n",
    "            break\n",
    "        label=labels[x]\n",
    "        print('Collecting images for {}'.format(label))\n",
    "cap.release()\n",
    "cv2.destroyAllWindows()"
   ]
  },
  {
   "cell_type": "code",
   "execution_count": 16,
   "metadata": {},
   "outputs": [
    {
     "name": "stdout",
     "output_type": "stream",
     "text": [
      "Collecting images for blue_cube\n",
      "Collecting image 0\n",
      "Collecting image 1\n",
      "Collecting image 2\n",
      "Collecting image 3\n",
      "Collecting image 4\n",
      "Collecting images for green_cube\n",
      "Collecting image 0\n",
      "Collecting image 1\n",
      "Collecting image 2\n",
      "Collecting image 3\n",
      "Collecting image 4\n",
      "Collecting images for red_cube\n",
      "Collecting image 0\n"
     ]
    }
   ],
   "source": [
    "for label in labels:\n",
    "    cap = cv2.VideoCapture(0)\n",
    "    print('Collecting images for {}'.format(label))\n",
    "    time.sleep(5)\n",
    "    for imgnum in range(number_imgs):\n",
    "        print('Collecting image {}'.format(imgnum))\n",
    "        ret, frame = cap.read()\n",
    "        imgname = os.path.join(IMAGES_PATH,label,label+'.'+'{}.jpg'.format(str(uuid.uuid1())))\n",
    "        cv2.imwrite(imgname, frame)\n",
    "        cv2.imshow('frame', frame)\n",
    "        time.sleep(2)\n",
    "\n",
    "        if cv2.waitKey(1) & 0xFF == ord('q'):\n",
    "            break\n",
    "cap.release()\n",
    "cv2.destroyAllWindows()"
   ]
  },
  {
   "cell_type": "markdown",
   "metadata": {},
   "source": [
    "# 5. Image Labelling"
   ]
  },
  {
   "cell_type": "code",
   "execution_count": 7,
   "metadata": {},
   "outputs": [
    {
     "name": "stdout",
     "output_type": "stream",
     "text": [
      "Requirement already satisfied: pyqt5 in d:\\danut\\tfod\\tfodcourse\\tfod\\lib\\site-packages (5.15.9)\n",
      "Requirement already satisfied: lxml in d:\\danut\\tfod\\tfodcourse\\tfod\\lib\\site-packages (4.9.2)\n",
      "Requirement already satisfied: PyQt5-Qt5>=5.15.2 in d:\\danut\\tfod\\tfodcourse\\tfod\\lib\\site-packages (from pyqt5) (5.15.2)\n",
      "Requirement already satisfied: PyQt5-sip<13,>=12.11 in d:\\danut\\tfod\\tfodcourse\\tfod\\lib\\site-packages (from pyqt5) (12.11.1)\n"
     ]
    }
   ],
   "source": [
    "!pip install --upgrade pyqt5 lxml"
   ]
  },
  {
   "cell_type": "code",
   "execution_count": 5,
   "metadata": {},
   "outputs": [],
   "source": [
    "LABELIMG_PATH = os.path.join('Tensorflow', 'labelimg')"
   ]
  },
  {
   "cell_type": "code",
   "execution_count": 6,
   "metadata": {},
   "outputs": [],
   "source": [
    "if not os.path.exists(LABELIMG_PATH):\n",
    "    !mkdir {LABELIMG_PATH}\n",
    "    !git clone https://github.com/tzutalin/labelImg {LABELIMG_PATH}"
   ]
  },
  {
   "cell_type": "code",
   "execution_count": 7,
   "metadata": {},
   "outputs": [],
   "source": [
    "if os.name == 'posix':\n",
    "    !make qt5py3\n",
    "if os.name =='nt':\n",
    "    !cd {LABELIMG_PATH} && pyrcc5 -o libs/resources.py resources.qrc"
   ]
  },
  {
   "cell_type": "code",
   "execution_count": 8,
   "metadata": {},
   "outputs": [],
   "source": [
    "!cd {LABELIMG_PATH} && python labelImg.py"
   ]
  },
  {
   "cell_type": "markdown",
   "metadata": {},
   "source": [
    "# 6. Move them into a Training and Testing Partition"
   ]
  },
  {
   "cell_type": "markdown",
   "metadata": {},
   "source": [
    "# OPTIONAL - 7. Compress them for Colab Training"
   ]
  },
  {
   "cell_type": "code",
   "execution_count": 20,
   "metadata": {},
   "outputs": [],
   "source": [
    "TRAIN_PATH = os.path.join('Tensorflow', 'workspace', 'images', 'train')\n",
    "TEST_PATH = os.path.join('Tensorflow', 'workspace', 'images', 'test')\n",
    "ARCHIVE_PATH = os.path.join('Tensorflow', 'workspace', 'images', 'archive.tar.gz')"
   ]
  },
  {
   "cell_type": "code",
   "execution_count": 21,
   "metadata": {},
   "outputs": [],
   "source": [
    "!tar -czf {ARCHIVE_PATH} {TRAIN_PATH} {TEST_PATH}"
   ]
  },
  {
   "cell_type": "code",
   "execution_count": null,
   "metadata": {},
   "outputs": [],
   "source": []
  }
 ],
 "metadata": {
  "kernelspec": {
   "display_name": "tfod",
   "language": "python",
   "name": "tfod"
  },
  "language_info": {
   "codemirror_mode": {
    "name": "ipython",
    "version": 3
   },
   "file_extension": ".py",
   "mimetype": "text/x-python",
   "name": "python",
   "nbconvert_exporter": "python",
   "pygments_lexer": "ipython3",
   "version": "3.10.10"
  }
 },
 "nbformat": 4,
 "nbformat_minor": 2
}
